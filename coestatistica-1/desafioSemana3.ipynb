{
 "cells": [
  {
   "cell_type": "code",
   "execution_count": 1,
   "metadata": {},
   "outputs": [],
   "source": [
    "import pandas as pd\n",
    "import statistics\n",
    "df = pd.read_csv('desafio1.csv')"
   ]
  },
  {
   "cell_type": "code",
   "execution_count": 2,
   "metadata": {},
   "outputs": [],
   "source": [
    "dic = {}"
   ]
  },
  {
   "cell_type": "code",
   "execution_count": 3,
   "metadata": {},
   "outputs": [
    {
     "data": {
      "text/html": [
       "<div>\n",
       "<style scoped>\n",
       "    .dataframe tbody tr th:only-of-type {\n",
       "        vertical-align: middle;\n",
       "    }\n",
       "\n",
       "    .dataframe tbody tr th {\n",
       "        vertical-align: top;\n",
       "    }\n",
       "\n",
       "    .dataframe thead tr th {\n",
       "        text-align: left;\n",
       "    }\n",
       "\n",
       "    .dataframe thead tr:last-of-type th {\n",
       "        text-align: right;\n",
       "    }\n",
       "</style>\n",
       "<table border=\"1\" class=\"dataframe\">\n",
       "  <thead>\n",
       "    <tr>\n",
       "      <th></th>\n",
       "      <th colspan=\"8\" halign=\"left\">RowNumber</th>\n",
       "      <th colspan=\"2\" halign=\"left\">pontuacao_credito</th>\n",
       "      <th>...</th>\n",
       "      <th colspan=\"2\" halign=\"left\">possui_cartao_de_credito</th>\n",
       "      <th colspan=\"8\" halign=\"left\">membro_ativo</th>\n",
       "    </tr>\n",
       "    <tr>\n",
       "      <th></th>\n",
       "      <th>count</th>\n",
       "      <th>mean</th>\n",
       "      <th>std</th>\n",
       "      <th>min</th>\n",
       "      <th>25%</th>\n",
       "      <th>50%</th>\n",
       "      <th>75%</th>\n",
       "      <th>max</th>\n",
       "      <th>count</th>\n",
       "      <th>mean</th>\n",
       "      <th>...</th>\n",
       "      <th>75%</th>\n",
       "      <th>max</th>\n",
       "      <th>count</th>\n",
       "      <th>mean</th>\n",
       "      <th>std</th>\n",
       "      <th>min</th>\n",
       "      <th>25%</th>\n",
       "      <th>50%</th>\n",
       "      <th>75%</th>\n",
       "      <th>max</th>\n",
       "    </tr>\n",
       "    <tr>\n",
       "      <th>estado_residencia</th>\n",
       "      <th></th>\n",
       "      <th></th>\n",
       "      <th></th>\n",
       "      <th></th>\n",
       "      <th></th>\n",
       "      <th></th>\n",
       "      <th></th>\n",
       "      <th></th>\n",
       "      <th></th>\n",
       "      <th></th>\n",
       "      <th></th>\n",
       "      <th></th>\n",
       "      <th></th>\n",
       "      <th></th>\n",
       "      <th></th>\n",
       "      <th></th>\n",
       "      <th></th>\n",
       "      <th></th>\n",
       "      <th></th>\n",
       "      <th></th>\n",
       "      <th></th>\n",
       "    </tr>\n",
       "  </thead>\n",
       "  <tbody>\n",
       "    <tr>\n",
       "      <th>PR</th>\n",
       "      <td>1731.0</td>\n",
       "      <td>3432.841710</td>\n",
       "      <td>2021.329878</td>\n",
       "      <td>8.0</td>\n",
       "      <td>1698.00</td>\n",
       "      <td>3388.0</td>\n",
       "      <td>5206.00</td>\n",
       "      <td>6992.0</td>\n",
       "      <td>1731.0</td>\n",
       "      <td>648.961294</td>\n",
       "      <td>...</td>\n",
       "      <td>1.0</td>\n",
       "      <td>1.0</td>\n",
       "      <td>1731.0</td>\n",
       "      <td>0.495090</td>\n",
       "      <td>0.500120</td>\n",
       "      <td>0.0</td>\n",
       "      <td>0.0</td>\n",
       "      <td>0.0</td>\n",
       "      <td>1.0</td>\n",
       "      <td>1.0</td>\n",
       "    </tr>\n",
       "    <tr>\n",
       "      <th>RS</th>\n",
       "      <td>1750.0</td>\n",
       "      <td>3487.801143</td>\n",
       "      <td>2038.163427</td>\n",
       "      <td>2.0</td>\n",
       "      <td>1696.25</td>\n",
       "      <td>3546.0</td>\n",
       "      <td>5243.25</td>\n",
       "      <td>6999.0</td>\n",
       "      <td>1750.0</td>\n",
       "      <td>651.105143</td>\n",
       "      <td>...</td>\n",
       "      <td>1.0</td>\n",
       "      <td>1.0</td>\n",
       "      <td>1750.0</td>\n",
       "      <td>0.527429</td>\n",
       "      <td>0.499390</td>\n",
       "      <td>0.0</td>\n",
       "      <td>0.0</td>\n",
       "      <td>1.0</td>\n",
       "      <td>1.0</td>\n",
       "      <td>1.0</td>\n",
       "    </tr>\n",
       "    <tr>\n",
       "      <th>SC</th>\n",
       "      <td>3519.0</td>\n",
       "      <td>3540.096334</td>\n",
       "      <td>2011.598038</td>\n",
       "      <td>1.0</td>\n",
       "      <td>1810.50</td>\n",
       "      <td>3521.0</td>\n",
       "      <td>5271.00</td>\n",
       "      <td>7000.0</td>\n",
       "      <td>3519.0</td>\n",
       "      <td>649.537653</td>\n",
       "      <td>...</td>\n",
       "      <td>1.0</td>\n",
       "      <td>1.0</td>\n",
       "      <td>3519.0</td>\n",
       "      <td>0.512930</td>\n",
       "      <td>0.499904</td>\n",
       "      <td>0.0</td>\n",
       "      <td>0.0</td>\n",
       "      <td>1.0</td>\n",
       "      <td>1.0</td>\n",
       "      <td>1.0</td>\n",
       "    </tr>\n",
       "  </tbody>\n",
       "</table>\n",
       "<p>3 rows × 64 columns</p>\n",
       "</div>"
      ],
      "text/plain": [
       "                  RowNumber                                                  \\\n",
       "                      count         mean          std  min      25%     50%   \n",
       "estado_residencia                                                             \n",
       "PR                   1731.0  3432.841710  2021.329878  8.0  1698.00  3388.0   \n",
       "RS                   1750.0  3487.801143  2038.163427  2.0  1696.25  3546.0   \n",
       "SC                   3519.0  3540.096334  2011.598038  1.0  1810.50  3521.0   \n",
       "\n",
       "                                   pontuacao_credito              ...  \\\n",
       "                       75%     max             count        mean  ...   \n",
       "estado_residencia                                                 ...   \n",
       "PR                 5206.00  6992.0            1731.0  648.961294  ...   \n",
       "RS                 5243.25  6999.0            1750.0  651.105143  ...   \n",
       "SC                 5271.00  7000.0            3519.0  649.537653  ...   \n",
       "\n",
       "                  possui_cartao_de_credito      membro_ativo            \\\n",
       "                                       75%  max        count      mean   \n",
       "estado_residencia                                                        \n",
       "PR                                     1.0  1.0       1731.0  0.495090   \n",
       "RS                                     1.0  1.0       1750.0  0.527429   \n",
       "SC                                     1.0  1.0       3519.0  0.512930   \n",
       "\n",
       "                                                      \n",
       "                        std  min  25%  50%  75%  max  \n",
       "estado_residencia                                     \n",
       "PR                 0.500120  0.0  0.0  0.0  1.0  1.0  \n",
       "RS                 0.499390  0.0  0.0  1.0  1.0  1.0  \n",
       "SC                 0.499904  0.0  0.0  1.0  1.0  1.0  \n",
       "\n",
       "[3 rows x 64 columns]"
      ]
     },
     "execution_count": 3,
     "metadata": {},
     "output_type": "execute_result"
    }
   ],
   "source": [
    "df.groupby('estado_residencia').describe()"
   ]
  },
  {
   "cell_type": "code",
   "execution_count": 4,
   "metadata": {},
   "outputs": [
    {
     "data": {
      "text/plain": [
       "850"
      ]
     },
     "execution_count": 4,
     "metadata": {},
     "output_type": "execute_result"
    }
   ],
   "source": [
    "statistics.mode(df.loc[df.estado_residencia == \"PR\"]['pontuacao_credito'])"
   ]
  },
  {
   "cell_type": "code",
   "execution_count": 5,
   "metadata": {},
   "outputs": [
    {
     "data": {
      "text/plain": [
       "0    850\n",
       "dtype: int64"
      ]
     },
     "execution_count": 5,
     "metadata": {},
     "output_type": "execute_result"
    }
   ],
   "source": [
    "df.loc[df.estado_residencia == \"SC\"]['pontuacao_credito'].mode()"
   ]
  },
  {
   "cell_type": "code",
   "execution_count": 6,
   "metadata": {},
   "outputs": [
    {
     "data": {
      "text/html": [
       "<div>\n",
       "<style scoped>\n",
       "    .dataframe tbody tr th:only-of-type {\n",
       "        vertical-align: middle;\n",
       "    }\n",
       "\n",
       "    .dataframe tbody tr th {\n",
       "        vertical-align: top;\n",
       "    }\n",
       "\n",
       "    .dataframe thead th {\n",
       "        text-align: right;\n",
       "    }\n",
       "</style>\n",
       "<table border=\"1\" class=\"dataframe\">\n",
       "  <thead>\n",
       "    <tr style=\"text-align: right;\">\n",
       "      <th></th>\n",
       "      <th>RowNumber</th>\n",
       "      <th>id</th>\n",
       "      <th>sobrenome</th>\n",
       "      <th>pontuacao_credito</th>\n",
       "      <th>estado_residencia</th>\n",
       "      <th>genero</th>\n",
       "      <th>idade</th>\n",
       "      <th>nivel_estabilidade</th>\n",
       "      <th>saldo_conta</th>\n",
       "      <th>numero_produtos</th>\n",
       "      <th>possui_cartao_de_credito</th>\n",
       "      <th>membro_ativo</th>\n",
       "    </tr>\n",
       "  </thead>\n",
       "  <tbody>\n",
       "    <tr>\n",
       "      <th>0</th>\n",
       "      <td>1</td>\n",
       "      <td>e7f44fcbd380d4cef7e6c232cc7e37895c3fd197</td>\n",
       "      <td>6d6e0aa1b9b413e442e2fb68df14b4fc3f91de50</td>\n",
       "      <td>619</td>\n",
       "      <td>SC</td>\n",
       "      <td>F</td>\n",
       "      <td>42</td>\n",
       "      <td>2</td>\n",
       "      <td>0.00</td>\n",
       "      <td>1</td>\n",
       "      <td>1</td>\n",
       "      <td>1</td>\n",
       "    </tr>\n",
       "    <tr>\n",
       "      <th>1</th>\n",
       "      <td>2</td>\n",
       "      <td>28dcb083ad90512da16b9430085c2cddb8ca5e12</td>\n",
       "      <td>48e1ad846796fa314f1b4a6702b83343eb5482c5</td>\n",
       "      <td>608</td>\n",
       "      <td>RS</td>\n",
       "      <td>F</td>\n",
       "      <td>41</td>\n",
       "      <td>1</td>\n",
       "      <td>83807.86</td>\n",
       "      <td>1</td>\n",
       "      <td>0</td>\n",
       "      <td>1</td>\n",
       "    </tr>\n",
       "    <tr>\n",
       "      <th>2</th>\n",
       "      <td>3</td>\n",
       "      <td>774bc378f787438c9c7594e536787d07a097a54b</td>\n",
       "      <td>f2b29d5d934de615812b697132e767dea0f1e9e2</td>\n",
       "      <td>502</td>\n",
       "      <td>SC</td>\n",
       "      <td>F</td>\n",
       "      <td>42</td>\n",
       "      <td>8</td>\n",
       "      <td>159660.80</td>\n",
       "      <td>3</td>\n",
       "      <td>1</td>\n",
       "      <td>0</td>\n",
       "    </tr>\n",
       "    <tr>\n",
       "      <th>3</th>\n",
       "      <td>4</td>\n",
       "      <td>043a71326f7096de155e7f0c559dc62b5e4b7239</td>\n",
       "      <td>85d5c9da7cddd8109ad32a6c348fe2bb10bf99f2</td>\n",
       "      <td>699</td>\n",
       "      <td>SC</td>\n",
       "      <td>F</td>\n",
       "      <td>39</td>\n",
       "      <td>1</td>\n",
       "      <td>0.00</td>\n",
       "      <td>2</td>\n",
       "      <td>0</td>\n",
       "      <td>0</td>\n",
       "    </tr>\n",
       "    <tr>\n",
       "      <th>4</th>\n",
       "      <td>5</td>\n",
       "      <td>37b3bb8ca243955fb3605ec7e1c2a4607cdb3b22</td>\n",
       "      <td>ddc89c837a6933639de75f28171057060bd322df</td>\n",
       "      <td>850</td>\n",
       "      <td>RS</td>\n",
       "      <td>F</td>\n",
       "      <td>43</td>\n",
       "      <td>2</td>\n",
       "      <td>125510.82</td>\n",
       "      <td>1</td>\n",
       "      <td>1</td>\n",
       "      <td>1</td>\n",
       "    </tr>\n",
       "    <tr>\n",
       "      <th>...</th>\n",
       "      <td>...</td>\n",
       "      <td>...</td>\n",
       "      <td>...</td>\n",
       "      <td>...</td>\n",
       "      <td>...</td>\n",
       "      <td>...</td>\n",
       "      <td>...</td>\n",
       "      <td>...</td>\n",
       "      <td>...</td>\n",
       "      <td>...</td>\n",
       "      <td>...</td>\n",
       "      <td>...</td>\n",
       "    </tr>\n",
       "    <tr>\n",
       "      <th>6995</th>\n",
       "      <td>6996</td>\n",
       "      <td>3e607c788c09d6e1f99cc50575e471fee41a322a</td>\n",
       "      <td>ef547badb8b0801d06a93155cc052341c749d1c0</td>\n",
       "      <td>633</td>\n",
       "      <td>SC</td>\n",
       "      <td>F</td>\n",
       "      <td>32</td>\n",
       "      <td>1</td>\n",
       "      <td>104001.38</td>\n",
       "      <td>1</td>\n",
       "      <td>0</td>\n",
       "      <td>1</td>\n",
       "    </tr>\n",
       "    <tr>\n",
       "      <th>6996</th>\n",
       "      <td>6997</td>\n",
       "      <td>2afdb40334e1bef3451f3db02b12c255c7a9ff57</td>\n",
       "      <td>e3eb2eea41a60b08392da20a49543d05ac484255</td>\n",
       "      <td>623</td>\n",
       "      <td>RS</td>\n",
       "      <td>F</td>\n",
       "      <td>50</td>\n",
       "      <td>2</td>\n",
       "      <td>87116.71</td>\n",
       "      <td>1</td>\n",
       "      <td>1</td>\n",
       "      <td>1</td>\n",
       "    </tr>\n",
       "    <tr>\n",
       "      <th>6997</th>\n",
       "      <td>6998</td>\n",
       "      <td>6a0589e36c12f95a8d3678b460519ed654fe0a3e</td>\n",
       "      <td>e65e12a7eb4e0b15e6d3afb127ce38c0a5303188</td>\n",
       "      <td>611</td>\n",
       "      <td>SC</td>\n",
       "      <td>M</td>\n",
       "      <td>68</td>\n",
       "      <td>5</td>\n",
       "      <td>82547.11</td>\n",
       "      <td>2</td>\n",
       "      <td>1</td>\n",
       "      <td>1</td>\n",
       "    </tr>\n",
       "    <tr>\n",
       "      <th>6998</th>\n",
       "      <td>6999</td>\n",
       "      <td>c042de909a1fb157765c84c3278d8e6500807367</td>\n",
       "      <td>a52bbf77611eab47a6eff8641a1a9bd01006acbe</td>\n",
       "      <td>666</td>\n",
       "      <td>RS</td>\n",
       "      <td>F</td>\n",
       "      <td>47</td>\n",
       "      <td>5</td>\n",
       "      <td>0.00</td>\n",
       "      <td>1</td>\n",
       "      <td>0</td>\n",
       "      <td>0</td>\n",
       "    </tr>\n",
       "    <tr>\n",
       "      <th>6999</th>\n",
       "      <td>7000</td>\n",
       "      <td>cdce83890ea1d7b64b2caaaea76f499cb5dfe684</td>\n",
       "      <td>2265b3657cc5e97382dc46819e3937c363fe165e</td>\n",
       "      <td>521</td>\n",
       "      <td>SC</td>\n",
       "      <td>M</td>\n",
       "      <td>27</td>\n",
       "      <td>4</td>\n",
       "      <td>121325.84</td>\n",
       "      <td>1</td>\n",
       "      <td>1</td>\n",
       "      <td>1</td>\n",
       "    </tr>\n",
       "  </tbody>\n",
       "</table>\n",
       "<p>7000 rows × 12 columns</p>\n",
       "</div>"
      ],
      "text/plain": [
       "      RowNumber                                        id  \\\n",
       "0             1  e7f44fcbd380d4cef7e6c232cc7e37895c3fd197   \n",
       "1             2  28dcb083ad90512da16b9430085c2cddb8ca5e12   \n",
       "2             3  774bc378f787438c9c7594e536787d07a097a54b   \n",
       "3             4  043a71326f7096de155e7f0c559dc62b5e4b7239   \n",
       "4             5  37b3bb8ca243955fb3605ec7e1c2a4607cdb3b22   \n",
       "...         ...                                       ...   \n",
       "6995       6996  3e607c788c09d6e1f99cc50575e471fee41a322a   \n",
       "6996       6997  2afdb40334e1bef3451f3db02b12c255c7a9ff57   \n",
       "6997       6998  6a0589e36c12f95a8d3678b460519ed654fe0a3e   \n",
       "6998       6999  c042de909a1fb157765c84c3278d8e6500807367   \n",
       "6999       7000  cdce83890ea1d7b64b2caaaea76f499cb5dfe684   \n",
       "\n",
       "                                     sobrenome  pontuacao_credito  \\\n",
       "0     6d6e0aa1b9b413e442e2fb68df14b4fc3f91de50                619   \n",
       "1     48e1ad846796fa314f1b4a6702b83343eb5482c5                608   \n",
       "2     f2b29d5d934de615812b697132e767dea0f1e9e2                502   \n",
       "3     85d5c9da7cddd8109ad32a6c348fe2bb10bf99f2                699   \n",
       "4     ddc89c837a6933639de75f28171057060bd322df                850   \n",
       "...                                        ...                ...   \n",
       "6995  ef547badb8b0801d06a93155cc052341c749d1c0                633   \n",
       "6996  e3eb2eea41a60b08392da20a49543d05ac484255                623   \n",
       "6997  e65e12a7eb4e0b15e6d3afb127ce38c0a5303188                611   \n",
       "6998  a52bbf77611eab47a6eff8641a1a9bd01006acbe                666   \n",
       "6999  2265b3657cc5e97382dc46819e3937c363fe165e                521   \n",
       "\n",
       "     estado_residencia genero  idade  nivel_estabilidade  saldo_conta  \\\n",
       "0                   SC      F     42                   2         0.00   \n",
       "1                   RS      F     41                   1     83807.86   \n",
       "2                   SC      F     42                   8    159660.80   \n",
       "3                   SC      F     39                   1         0.00   \n",
       "4                   RS      F     43                   2    125510.82   \n",
       "...                ...    ...    ...                 ...          ...   \n",
       "6995                SC      F     32                   1    104001.38   \n",
       "6996                RS      F     50                   2     87116.71   \n",
       "6997                SC      M     68                   5     82547.11   \n",
       "6998                RS      F     47                   5         0.00   \n",
       "6999                SC      M     27                   4    121325.84   \n",
       "\n",
       "      numero_produtos  possui_cartao_de_credito  membro_ativo  \n",
       "0                   1                         1             1  \n",
       "1                   1                         0             1  \n",
       "2                   3                         1             0  \n",
       "3                   2                         0             0  \n",
       "4                   1                         1             1  \n",
       "...               ...                       ...           ...  \n",
       "6995                1                         0             1  \n",
       "6996                1                         1             1  \n",
       "6997                2                         1             1  \n",
       "6998                1                         0             0  \n",
       "6999                1                         1             1  \n",
       "\n",
       "[7000 rows x 12 columns]"
      ]
     },
     "execution_count": 6,
     "metadata": {},
     "output_type": "execute_result"
    }
   ],
   "source": [
    "df"
   ]
  },
  {
   "cell_type": "code",
   "execution_count": 7,
   "metadata": {},
   "outputs": [],
   "source": [
    "dic[\"SC\"]  = {}"
   ]
  },
  {
   "cell_type": "code",
   "execution_count": 8,
   "metadata": {},
   "outputs": [],
   "source": [
    "dic[\"SC\"][\"moda\"] = df.loc[df.estado_residencia == \"SC\"]['pontuacao_credito'].mode()"
   ]
  },
  {
   "cell_type": "code",
   "execution_count": 9,
   "metadata": {},
   "outputs": [],
   "source": [
    "dic[\"SC\"][\"moda\"] = dic[\"SC\"][\"moda\"][0]"
   ]
  },
  {
   "cell_type": "code",
   "execution_count": 10,
   "metadata": {},
   "outputs": [
    {
     "data": {
      "text/plain": [
       "850"
      ]
     },
     "execution_count": 10,
     "metadata": {},
     "output_type": "execute_result"
    }
   ],
   "source": [
    "dic[\"SC\"][\"moda\"]"
   ]
  },
  {
   "cell_type": "code",
   "execution_count": 11,
   "metadata": {},
   "outputs": [],
   "source": [
    "dic[\"SC\"][\"mediana\"] = df.loc[df.estado_residencia == \"SC\"]['pontuacao_credito'].median()"
   ]
  },
  {
   "cell_type": "code",
   "execution_count": 12,
   "metadata": {},
   "outputs": [
    {
     "data": {
      "text/plain": [
       "653.0"
      ]
     },
     "execution_count": 12,
     "metadata": {},
     "output_type": "execute_result"
    }
   ],
   "source": [
    "dic[\"SC\"][\"mediana\"]"
   ]
  },
  {
   "cell_type": "code",
   "execution_count": 13,
   "metadata": {},
   "outputs": [],
   "source": [
    "dic[\"SC\"][\"media\"] = df.loc[df.estado_residencia == \"SC\"]['pontuacao_credito'].mean()"
   ]
  },
  {
   "cell_type": "code",
   "execution_count": 14,
   "metadata": {},
   "outputs": [
    {
     "data": {
      "text/plain": [
       "649.5376527422563"
      ]
     },
     "execution_count": 14,
     "metadata": {},
     "output_type": "execute_result"
    }
   ],
   "source": [
    "dic[\"SC\"][\"media\"]"
   ]
  },
  {
   "cell_type": "code",
   "execution_count": 15,
   "metadata": {},
   "outputs": [],
   "source": [
    "dic[\"SC\"][\"desvio_padrao\"] = df.loc[df.estado_residencia == \"SC\"]['pontuacao_credito'].std()"
   ]
  },
  {
   "cell_type": "code",
   "execution_count": 16,
   "metadata": {},
   "outputs": [
    {
     "data": {
      "text/plain": [
       "97.233492793433"
      ]
     },
     "execution_count": 16,
     "metadata": {},
     "output_type": "execute_result"
    }
   ],
   "source": [
    "dic[\"SC\"][\"desvio_padrao\"]"
   ]
  },
  {
   "cell_type": "code",
   "execution_count": 17,
   "metadata": {},
   "outputs": [],
   "source": [
    "dic[\"RS\"]  = {}"
   ]
  },
  {
   "cell_type": "code",
   "execution_count": 18,
   "metadata": {},
   "outputs": [],
   "source": [
    "dic[\"RS\"][\"moda\"] = df.loc[df.estado_residencia == \"RS\"]['pontuacao_credito'].mode()"
   ]
  },
  {
   "cell_type": "code",
   "execution_count": 19,
   "metadata": {},
   "outputs": [],
   "source": [
    "dic[\"RS\"][\"moda\"] = dic[\"RS\"][\"moda\"][0]"
   ]
  },
  {
   "cell_type": "code",
   "execution_count": 20,
   "metadata": {},
   "outputs": [
    {
     "data": {
      "text/plain": [
       "850"
      ]
     },
     "execution_count": 20,
     "metadata": {},
     "output_type": "execute_result"
    }
   ],
   "source": [
    "dic[\"RS\"][\"moda\"]"
   ]
  },
  {
   "cell_type": "code",
   "execution_count": 21,
   "metadata": {},
   "outputs": [],
   "source": [
    "dic[\"RS\"][\"mediana\"] = df.loc[df.estado_residencia == \"RS\"]['pontuacao_credito'].median()"
   ]
  },
  {
   "cell_type": "code",
   "execution_count": 22,
   "metadata": {},
   "outputs": [],
   "source": [
    "dic[\"RS\"][\"media\"] = df.loc[df.estado_residencia == \"RS\"]['pontuacao_credito'].mean()"
   ]
  },
  {
   "cell_type": "code",
   "execution_count": 23,
   "metadata": {},
   "outputs": [],
   "source": [
    "dic[\"RS\"][\"desvio_padrao\"] = df.loc[df.estado_residencia == \"RS\"]['pontuacao_credito'].std()"
   ]
  },
  {
   "cell_type": "code",
   "execution_count": 24,
   "metadata": {},
   "outputs": [],
   "source": [
    "dic[\"PR\"]  = {}"
   ]
  },
  {
   "cell_type": "code",
   "execution_count": 25,
   "metadata": {},
   "outputs": [],
   "source": [
    "dic[\"PR\"][\"moda\"] = df.loc[df.estado_residencia == \"PR\"]['pontuacao_credito'].mode()"
   ]
  },
  {
   "cell_type": "code",
   "execution_count": 26,
   "metadata": {},
   "outputs": [],
   "source": [
    "dic[\"PR\"][\"moda\"] = dic[\"PR\"][\"moda\"][0]"
   ]
  },
  {
   "cell_type": "code",
   "execution_count": 27,
   "metadata": {},
   "outputs": [],
   "source": [
    "dic[\"PR\"][\"mediana\"] = df.loc[df.estado_residencia == \"PR\"]['pontuacao_credito'].median()"
   ]
  },
  {
   "cell_type": "code",
   "execution_count": 28,
   "metadata": {},
   "outputs": [],
   "source": [
    "dic[\"PR\"][\"media\"] = df.loc[df.estado_residencia == \"PR\"]['pontuacao_credito'].mean()"
   ]
  },
  {
   "cell_type": "code",
   "execution_count": 29,
   "metadata": {},
   "outputs": [],
   "source": [
    "dic[\"PR\"][\"desvio_padrao\"] = df.loc[df.estado_residencia == \"PR\"]['pontuacao_credito'].std()"
   ]
  },
  {
   "cell_type": "code",
   "execution_count": 30,
   "metadata": {},
   "outputs": [
    {
     "data": {
      "text/plain": [
       "{'SC': {'moda': 850,\n",
       "  'mediana': 653.0,\n",
       "  'media': 649.5376527422563,\n",
       "  'desvio_padrao': 97.233492793433},\n",
       " 'RS': {'moda': 850,\n",
       "  'mediana': 650.0,\n",
       "  'media': 651.1051428571428,\n",
       "  'desvio_padrao': 95.13659841383574},\n",
       " 'PR': {'moda': 850,\n",
       "  'mediana': 650.0,\n",
       "  'media': 648.9612940496822,\n",
       "  'desvio_padrao': 98.60718591309758}}"
      ]
     },
     "execution_count": 30,
     "metadata": {},
     "output_type": "execute_result"
    }
   ],
   "source": [
    "dic"
   ]
  },
  {
   "cell_type": "code",
   "execution_count": 57,
   "metadata": {},
   "outputs": [],
   "source": [
    "import json\n",
    "import numpy"
   ]
  },
  {
   "cell_type": "code",
   "execution_count": null,
   "metadata": {},
   "outputs": [],
   "source": []
  },
  {
   "cell_type": "code",
   "execution_count": null,
   "metadata": {},
   "outputs": [],
   "source": []
  },
  {
   "cell_type": "code",
   "execution_count": null,
   "metadata": {},
   "outputs": [],
   "source": []
  },
  {
   "cell_type": "code",
   "execution_count": 58,
   "metadata": {},
   "outputs": [],
   "source": [
    "def convert(o):\n",
    "    if isinstance(o, numpy.int64): return int(o)  \n",
    "    raise TypeError"
   ]
  },
  {
   "cell_type": "code",
   "execution_count": 59,
   "metadata": {},
   "outputs": [
    {
     "data": {
      "text/plain": [
       "'{\"SC\": {\"moda\": 850, \"mediana\": 653.0, \"media\": 649.5376527422563, \"desvio_padrao\": 97.233492793433}, \"RS\": {\"moda\": 850, \"mediana\": 650.0, \"media\": 651.1051428571428, \"desvio_padrao\": 95.13659841383574}, \"PR\": {\"moda\": 850, \"mediana\": 650.0, \"media\": 648.9612940496822, \"desvio_padrao\": 98.60718591309758}}'"
      ]
     },
     "execution_count": 59,
     "metadata": {},
     "output_type": "execute_result"
    }
   ],
   "source": [
    "json.dumps(dic, default=convert)"
   ]
  },
  {
   "cell_type": "code",
   "execution_count": 62,
   "metadata": {},
   "outputs": [],
   "source": [
    "f = open('submission.json','w')\n",
    "f.write(json.dumps(dic, default=convert))\n",
    "f.close()"
   ]
  }
 ],
 "metadata": {
  "kernelspec": {
   "display_name": "Python 3",
   "language": "python",
   "name": "python3"
  },
  "language_info": {
   "codemirror_mode": {
    "name": "ipython",
    "version": 3
   },
   "file_extension": ".py",
   "mimetype": "text/x-python",
   "name": "python",
   "nbconvert_exporter": "python",
   "pygments_lexer": "ipython3",
   "version": "3.6.9"
  }
 },
 "nbformat": 4,
 "nbformat_minor": 4
}
